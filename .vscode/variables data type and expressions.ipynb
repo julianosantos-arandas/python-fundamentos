{
 "cells": [
  {
   "cell_type": "markdown",
   "id": "00f867f0",
   "metadata": {},
   "source": [
    "🏁 Introduction\n",
    "\n",
    "Here I am learning about Variables and Types \n",
    "\n",
    "* Variable - A label that stores a value in memory\n",
    "  Example: age, name\n",
    "\n",
    "* Type of data - The kind of value stored \n",
    "  Example : int, float, str, bool, etc.\n",
    "\n",
    "* Value - The content stored inside a variable\n",
    "  Example: 30, \"Juliano\"\n",
    "\n",
    "  "
   ]
  },
  {
   "cell_type": "code",
   "execution_count": null,
   "id": "4bfaea87",
   "metadata": {},
   "outputs": [
    {
     "name": "stdout",
     "output_type": "stream",
     "text": [
      "7\n"
     ]
    }
   ],
   "source": [
    "myint = 7\n",
    "print (myint)"
   ]
  },
  {
   "cell_type": "code",
   "execution_count": 1,
   "id": "8a4af9b9",
   "metadata": {},
   "outputs": [
    {
     "name": "stdout",
     "output_type": "stream",
     "text": [
      "7.2\n"
     ]
    }
   ],
   "source": [
    "myfloat = 7.2 \n",
    "print (myfloat)"
   ]
  },
  {
   "cell_type": "code",
   "execution_count": 2,
   "id": "d4467632",
   "metadata": {},
   "outputs": [
    {
     "name": "stdout",
     "output_type": "stream",
     "text": [
      "7.0\n"
     ]
    }
   ],
   "source": [
    "myfloat = float(7)\n",
    "print (myfloat)"
   ]
  },
  {
   "cell_type": "code",
   "execution_count": 3,
   "id": "11bc3c5e",
   "metadata": {},
   "outputs": [
    {
     "name": "stdout",
     "output_type": "stream",
     "text": [
      "Hello\n"
     ]
    }
   ],
   "source": [
    "mystring = \"Hello\"\n",
    "print (mystring)"
   ]
  },
  {
   "cell_type": "markdown",
   "id": "f8449c29",
   "metadata": {},
   "source": [
    "📌 A carrige return (\\r) is used to move the cursor back to the beginning of the current line, overwriting the first character."
   ]
  },
  {
   "cell_type": "code",
   "execution_count": null,
   "id": "2afd564f",
   "metadata": {},
   "outputs": [
    {
     "name": "stdout",
     "output_type": "stream",
     "text": [
      "PythonWorld!\n"
     ]
    }
   ],
   "source": [
    "\n",
    "print (\"Hello World!\\rPython\")"
   ]
  },
  {
   "cell_type": "markdown",
   "id": "0dab66b2",
   "metadata": {},
   "source": [
    "📌 You can use operators with numbers and strings"
   ]
  },
  {
   "cell_type": "code",
   "execution_count": null,
   "id": "5789cac9",
   "metadata": {},
   "outputs": [
    {
     "name": "stdout",
     "output_type": "stream",
     "text": [
      "3\n",
      "Hello World\n"
     ]
    }
   ],
   "source": [
    "one = 1\n",
    "two = 2\n",
    "three = one + two\n",
    "print (three)\n",
    "\n",
    "a = \"Hello\"\n",
    "b = \"World\"\n",
    "helloworld = a + \" \" + b\n",
    "print (helloworld)"
   ]
  },
  {
   "cell_type": "markdown",
   "id": "5c15ca31",
   "metadata": {},
   "source": [
    "🧩 Challange 1 - Temperature Converter"
   ]
  },
  {
   "cell_type": "code",
   "execution_count": 11,
   "id": "4e3de152",
   "metadata": {},
   "outputs": [
    {
     "name": "stdout",
     "output_type": "stream",
     "text": [
      "The temperature in Fahrenheit is 95.0\n"
     ]
    }
   ],
   "source": [
    "celsius = float (input(\"Enter the temparature in°C: \"))\n",
    "fahrenheit = (celsius * 9/5) + 32\n",
    "print(f\"The temperature in Fahrenheit is {fahrenheit}\")"
   ]
  },
  {
   "cell_type": "code",
   "execution_count": 10,
   "id": "dc01efc2",
   "metadata": {},
   "outputs": [
    {
     "name": "stdout",
     "output_type": "stream",
     "text": [
      "Welcome Julian! Proceed to he next step.\n"
     ]
    }
   ],
   "source": [
    "name = (input(\"Digite o seu nome: \"))\n",
    "print(f\"Welcome {name}! Proceed to he next step.\")"
   ]
  },
  {
   "cell_type": "markdown",
   "id": "6509acdc",
   "metadata": {},
   "source": [
    "◆ input() - prompts the user for a value\n",
    "\n",
    "◆ print(f\"...\") - everything inside the {} within the string will be replaced by the value of the variable"
   ]
  },
  {
   "cell_type": "markdown",
   "id": "fb4f6fbc",
   "metadata": {},
   "source": [
    "🧮 Challange 2 - Age calculator"
   ]
  },
  {
   "cell_type": "code",
   "execution_count": 20,
   "id": "b9705dc6",
   "metadata": {},
   "outputs": [
    {
     "name": "stdout",
     "output_type": "stream",
     "text": [
      "You have 39 to complete 100 years.\n"
     ]
    }
   ],
   "source": [
    "from datetime import date\n",
    "\n",
    "current_year = date.today().year\n",
    "birth_year = int (input(\"Enter the year of your birth: \"))\n",
    "age = current_year - birth_year\n",
    "years_until_100 = 100 - age\n",
    "\n",
    "print(f\"You have {years_until_100} to complete 100 years.\")"
   ]
  },
  {
   "cell_type": "markdown",
   "id": "e408b78d",
   "metadata": {},
   "source": [
    "◆ from datetime import date - to get the current date\n",
    "\n",
    "◆ date.today().year - to get just the year. If I want the whole date, I use - date.today()\n",
    "\n",
    "◆ birth_year = int (input(\"Enter the year of your birth: \")) - I used \"int()\" to converte the string to an integer"
   ]
  },
  {
   "cell_type": "code",
   "execution_count": 1,
   "id": "1920426b",
   "metadata": {},
   "outputs": [
    {
     "name": "stdout",
     "output_type": "stream",
     "text": [
      "Your Learning Path: \n",
      "\n",
      " -Python Basics\n",
      "\n",
      " -Data Engineering\n",
      "\n",
      " -AI\n"
     ]
    }
   ],
   "source": [
    "print(\"\"\"Your Learning Path: \n",
    "\\n -Python Basics\n",
    "\\n -Data Engineering\n",
    "\\n -AI\"\"\")"
   ]
  },
  {
   "cell_type": "code",
   "execution_count": 1,
   "id": "336c3dde",
   "metadata": {},
   "outputs": [
    {
     "data": {
      "text/plain": [
       "int"
      ]
     },
     "execution_count": 1,
     "metadata": {},
     "output_type": "execute_result"
    }
   ],
   "source": [
    "xx = 1\n",
    "type(xx)"
   ]
  },
  {
   "cell_type": "code",
   "execution_count": 5,
   "id": "19ca7196",
   "metadata": {},
   "outputs": [
    {
     "name": "stdout",
     "output_type": "stream",
     "text": [
      "The floor is 12\n"
     ]
    }
   ],
   "source": [
    "floor = int (input(\"What is the floor?\"))\n",
    "usfloor = floor + 1\n",
    "print(\"The floor is\", usfloor)"
   ]
  },
  {
   "cell_type": "markdown",
   "id": "a792cd26",
   "metadata": {},
   "source": [
    "◆ print(\"The floor is\", usfloor) - I can use it without \"f\", but it's more professional to use it."
   ]
  },
  {
   "cell_type": "code",
   "execution_count": 14,
   "id": "c6a0dd2a",
   "metadata": {},
   "outputs": [
    {
     "name": "stdout",
     "output_type": "stream",
     "text": [
      "Your payment is 96.25\n"
     ]
    }
   ],
   "source": [
    "hrs = int (input(\"Enter Hours\"))\n",
    "rate = 2.75\n",
    "pyt = rate * hrs\n",
    "float(pyt)\n",
    "\n",
    "print(f\"Your payment is {pyt}\")"
   ]
  },
  {
   "cell_type": "code",
   "execution_count": 15,
   "id": "f78a36a2",
   "metadata": {},
   "outputs": [
    {
     "name": "stdout",
     "output_type": "stream",
     "text": [
      "Your payment is 96.25\n"
     ]
    }
   ],
   "source": [
    "hrs = int (input(\"Enter hours\"))\n",
    "rate = float (input(\"Enter rate per hour\"))\n",
    "pyt = rate * hrs\n",
    "\n",
    "print(f\"Your payment is {pyt}\")"
   ]
  },
  {
   "cell_type": "code",
   "execution_count": null,
   "id": "67ca3372",
   "metadata": {},
   "outputs": [],
   "source": [
    "real_1 = int(input(\"Digite quantas moedas de 1 real você tem:\"))\n",
    "centavos_50"
   ]
  }
 ],
 "metadata": {
  "kernelspec": {
   "display_name": "venv",
   "language": "python",
   "name": "python3"
  },
  "language_info": {
   "codemirror_mode": {
    "name": "ipython",
    "version": 3
   },
   "file_extension": ".py",
   "mimetype": "text/x-python",
   "name": "python",
   "nbconvert_exporter": "python",
   "pygments_lexer": "ipython3",
   "version": "3.13.3"
  }
 },
 "nbformat": 4,
 "nbformat_minor": 5
}
