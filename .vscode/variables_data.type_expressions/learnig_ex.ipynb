{
 "cells": [
  {
   "cell_type": "markdown",
   "id": "00f867f0",
   "metadata": {},
   "source": [
    "🏁 Introduction\n",
    "\n",
    "Here I am learning about Variables and Types \n",
    "\n",
    "* Variable - A label that stores a value in memory\n",
    "  Example: age, name\n",
    "\n",
    "* Type of data - The kind of value stored \n",
    "  Example : int, float, str, bool, etc.\n",
    "\n",
    "* Value - The content stored inside a variable\n",
    "  Example: 30, \"Juliano\"\n",
    "\n",
    "  "
   ]
  },
  {
   "cell_type": "code",
   "execution_count": null,
   "id": "4bfaea87",
   "metadata": {},
   "outputs": [
    {
     "name": "stdout",
     "output_type": "stream",
     "text": [
      "7\n"
     ]
    }
   ],
   "source": [
    "myint = 7\n",
    "print (myint)"
   ]
  },
  {
   "cell_type": "code",
   "execution_count": 1,
   "id": "8a4af9b9",
   "metadata": {},
   "outputs": [
    {
     "name": "stdout",
     "output_type": "stream",
     "text": [
      "7.2\n"
     ]
    }
   ],
   "source": [
    "myfloat = 7.2 \n",
    "print (myfloat)"
   ]
  },
  {
   "cell_type": "code",
   "execution_count": 2,
   "id": "d4467632",
   "metadata": {},
   "outputs": [
    {
     "name": "stdout",
     "output_type": "stream",
     "text": [
      "7.0\n"
     ]
    }
   ],
   "source": [
    "myfloat = float(7)\n",
    "print (myfloat)"
   ]
  },
  {
   "cell_type": "code",
   "execution_count": 3,
   "id": "11bc3c5e",
   "metadata": {},
   "outputs": [
    {
     "name": "stdout",
     "output_type": "stream",
     "text": [
      "Hello\n"
     ]
    }
   ],
   "source": [
    "mystring = \"Hello\"\n",
    "print (mystring)"
   ]
  },
  {
   "cell_type": "code",
   "execution_count": null,
   "id": "2afd564f",
   "metadata": {},
   "outputs": [
    {
     "name": "stdout",
     "output_type": "stream",
     "text": [
      "PythonWorld!\n"
     ]
    }
   ],
   "source": [
    "\n",
    "print (\"Hello World!\\rPython\")"
   ]
  },
  {
   "cell_type": "markdown",
   "id": "f8449c29",
   "metadata": {},
   "source": [
    "📌 A carrige return (\\r) is used to move the cursor back to the beginning of the current line, overwriting the first character."
   ]
  },
  {
   "cell_type": "code",
   "execution_count": null,
   "id": "5789cac9",
   "metadata": {},
   "outputs": [
    {
     "name": "stdout",
     "output_type": "stream",
     "text": [
      "3\n",
      "Hello World\n"
     ]
    }
   ],
   "source": [
    "one = 1\n",
    "two = 2\n",
    "three = one + two\n",
    "print (three)\n",
    "\n",
    "a = \"Hello\"\n",
    "b = \"World\"\n",
    "helloworld = a + \" \" + b\n",
    "print (helloworld)"
   ]
  },
  {
   "cell_type": "markdown",
   "id": "0dab66b2",
   "metadata": {},
   "source": [
    "📌 You can use operators with numbers and strings"
   ]
  },
  {
   "cell_type": "code",
   "execution_count": 1,
   "id": "1920426b",
   "metadata": {},
   "outputs": [
    {
     "name": "stdout",
     "output_type": "stream",
     "text": [
      "Your Learning Path: \n",
      "\n",
      " -Python Basics\n",
      "\n",
      " -Data Engineering\n",
      "\n",
      " -AI\n"
     ]
    }
   ],
   "source": [
    "print(\"\"\"Your Learning Path: \n",
    "\\n -Python Basics\n",
    "\\n -Data Engineering\n",
    "\\n -AI\"\"\")"
   ]
  },
  {
   "cell_type": "code",
   "execution_count": 1,
   "id": "336c3dde",
   "metadata": {},
   "outputs": [
    {
     "data": {
      "text/plain": [
       "int"
      ]
     },
     "execution_count": 1,
     "metadata": {},
     "output_type": "execute_result"
    }
   ],
   "source": [
    "xx = 1\n",
    "type(xx)"
   ]
  },
  {
   "cell_type": "code",
   "execution_count": 5,
   "id": "19ca7196",
   "metadata": {},
   "outputs": [
    {
     "name": "stdout",
     "output_type": "stream",
     "text": [
      "The floor is 12\n"
     ]
    }
   ],
   "source": [
    "floor = int (input(\"What is the floor?\"))\n",
    "usfloor = floor + 1\n",
    "print(\"The floor is\", usfloor)"
   ]
  },
  {
   "cell_type": "markdown",
   "id": "a792cd26",
   "metadata": {},
   "source": [
    "📌 print(\"The floor is\", usfloor) - I can use it without \"f\", but it's more professional to use it."
   ]
  }
 ],
 "metadata": {
  "kernelspec": {
   "display_name": "venv",
   "language": "python",
   "name": "python3"
  },
  "language_info": {
   "codemirror_mode": {
    "name": "ipython",
    "version": 3
   },
   "file_extension": ".py",
   "mimetype": "text/x-python",
   "name": "python",
   "nbconvert_exporter": "python",
   "pygments_lexer": "ipython3",
   "version": "3.13.3"
  }
 },
 "nbformat": 4,
 "nbformat_minor": 5
}
