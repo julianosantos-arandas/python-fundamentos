{
 "cells": [
  {
   "cell_type": "markdown",
   "id": "938fd8bd",
   "metadata": {},
   "source": [
    "                              🧩 Challange 1 - Temperature Converter"
   ]
  },
  {
   "cell_type": "code",
   "execution_count": null,
   "id": "112b7e40",
   "metadata": {},
   "outputs": [
    {
     "name": "stdout",
     "output_type": "stream",
     "text": [
      "The temperature in Fahrenheit is 95.0\n"
     ]
    }
   ],
   "source": [
    "celsius = float (input(\"Enter the temparature in°C: \"))\n",
    "fahrenheit = (celsius * 9/5) + 32\n",
    "print(f\"The temperature in Fahrenheit is {fahrenheit}\")"
   ]
  },
  {
   "cell_type": "code",
   "execution_count": null,
   "id": "64c6e049",
   "metadata": {},
   "outputs": [
    {
     "name": "stdout",
     "output_type": "stream",
     "text": [
      "Welcome Julian! Proceed to he next step.\n"
     ]
    }
   ],
   "source": [
    "name = (input(\"Digite o seu nome: \"))\n",
    "print(f\"Welcome {name}! Proceed to he next step.\")"
   ]
  },
  {
   "cell_type": "markdown",
   "id": "10c934d1",
   "metadata": {},
   "source": [
    "📌 input() - prompts the user for a value\n",
    "\n",
    "📌 print(f\"...\") - everything inside the {} within the string will be replaced by the value of the variable"
   ]
  },
  {
   "cell_type": "markdown",
   "id": "fcd17a29",
   "metadata": {},
   "source": [
    "                                  🧮 Challange 2 - Age calculator"
   ]
  },
  {
   "cell_type": "code",
   "execution_count": null,
   "id": "74cc75bc",
   "metadata": {},
   "outputs": [
    {
     "name": "stdout",
     "output_type": "stream",
     "text": [
      "You have 39 to complete 100 years.\n"
     ]
    }
   ],
   "source": [
    "from datetime import date\n",
    "\n",
    "current_year = date.today().year\n",
    "birth_year = int (input(\"Enter the year of your birth: \"))\n",
    "age = current_year - birth_year\n",
    "years_until_100 = 100 - age\n",
    "\n",
    "print(f\"You have {years_until_100} to complete 100 years.\")"
   ]
  },
  {
   "cell_type": "markdown",
   "id": "1b298103",
   "metadata": {},
   "source": [
    "📌 from datetime import date - to get the current date\n",
    "\n",
    "📌 date.today().year - to get just the year. If I want the whole date, I use - date.today()\n",
    "\n",
    "📌 birth_year = int (input(\"Enter the year of your birth: \")) - I used \"int()\" to converte the string to an integer"
   ]
  },
  {
   "cell_type": "markdown",
   "id": "54a3a211",
   "metadata": {},
   "source": [
    "                                💰 Payment - Extra Challange"
   ]
  },
  {
   "cell_type": "code",
   "execution_count": null,
   "id": "1e06b027",
   "metadata": {},
   "outputs": [
    {
     "name": "stdout",
     "output_type": "stream",
     "text": [
      "Your payment is 96.25\n"
     ]
    }
   ],
   "source": [
    "hrs = int (input(\"Enter hours\"))\n",
    "rate = float (input(\"Enter rate per hour\"))\n",
    "pyt = rate * hrs\n",
    "\n",
    "print(f\"Your payment is {pyt}\")"
   ]
  },
  {
   "cell_type": "code",
   "execution_count": null,
   "id": "6ffcd948",
   "metadata": {},
   "outputs": [
    {
     "name": "stdout",
     "output_type": "stream",
     "text": [
      "Your payment is 96.25\n"
     ]
    }
   ],
   "source": [
    "hrs = int (input(\"Enter Hours\"))\n",
    "rate = 2.75\n",
    "pyt = rate * hrs\n",
    "float(pyt)\n",
    "\n",
    "print(f\"Your payment is {pyt}\")"
   ]
  },
  {
   "cell_type": "markdown",
   "id": "80524340",
   "metadata": {},
   "source": [
    "                              💰 Challenge 3 – Virtual Piggy Bank   "
   ]
  },
  {
   "cell_type": "code",
   "execution_count": null,
   "id": "67f4ecc7",
   "metadata": {},
   "outputs": [
    {
     "name": "stdout",
     "output_type": "stream",
     "text": [
      "You have a total of R$10.10.\n"
     ]
    }
   ],
   "source": [
    "real_1 = int(input(\"Enter how many 1 real coins you have: \"))\n",
    "cent_50 = int(input(\"Enter how many 50 cent coins you have: \"))\n",
    "cent_25 = int(input(\"Enter how many 25 cent coins you have: \"))\n",
    "cent_10 = int(input(\"Enter how many 10 cent coins you have: \"))\n",
    "cent_5 = int(input(\"Enter how many 5 cent coins you have: \"))\n",
    "\n",
    "total_value = (\n",
    "    (real_1 * 1.00)\n",
    "    + (cent_50 * 0.50)\n",
    "    + (cent_25 * 0.25)\n",
    "    + (cent_10 * 0.10)\n",
    "    + (cent_5 * 0.05)\n",
    ")\n",
    "\n",
    "print(f\"You have a total of R${total_value:.2f}.\")\n"
   ]
  },
  {
   "cell_type": "markdown",
   "id": "bc2fbb80",
   "metadata": {},
   "source": [
    "📌 Simple version whithout \"for\" "
   ]
  },
  {
   "cell_type": "code",
   "execution_count": null,
   "id": "5291d778",
   "metadata": {},
   "outputs": [
    {
     "name": "stdout",
     "output_type": "stream",
     "text": [
      "You have a total of R$19.75.\n"
     ]
    }
   ],
   "source": [
    "total_value = 0\n",
    "\n",
    "coins = [\n",
    "    (\"1 real\", 1.00),\n",
    "    (\"50 centavos\", 0.50),\n",
    "    (\"25 centavos\", 0.25),\n",
    "    (\"10 centavos\", 0.10),\n",
    "    (\"05 centavos\", 0.05)\n",
    "]\n",
    "\n",
    "for name, value in coins:\n",
    "    quantity = int(input(f\"Enter how many {name} coins you have: \"))\n",
    "    total_value += quantity * value \n",
    "\n",
    "\n",
    "print(f\"You have a total of R${total_value:.2f}.\")\n"
   ]
  },
  {
   "cell_type": "markdown",
   "id": "dfff5cdd",
   "metadata": {},
   "source": [
    "▶️total_value = 0◀️\n",
    "\n",
    "💬 We’re going to accumulate in it the value of all the coins.\n",
    "   Each time the user enters how many coins they have, the program will add the corresponding value here.\n",
    "\n",
    "\n",
    "▶️coins = [\n",
    "    (\"1 real\", 1.00), ⬅️ tuple\n",
    "    \n",
    "    (\"50 centavos\", 0.50),⬅️ tuple\n",
    "    (\"25 centavos\", 0.25),⬅️ tuple\n",
    "    (\"10 centavos\", 0.10),⬅️ tuple\n",
    "    (\"05 centavos\", 0.05)⬅️ tuple\n",
    "]◀️\n",
    "\n",
    "\n",
    "🧠 What it does:\n",
    "Creates a list of tuples called coins.\n",
    "Each tuple contains two pieces of information:\n",
    "\n",
    "The coin’s name (text, str)\n",
    "\n",
    "The coin’s value in reais (float)\n",
    "\n",
    "💬 Why:\n",
    "This way, the program knows both the name to display in the input\n",
    "and the numeric value it should multiply by the quantity.❗\n",
    "\n",
    "\n",
    "▶️for name, value in coins:◀️\n",
    "\n",
    "🧠 What it does:\n",
    "This is the for loop.\n",
    "It goes through each tuple inside the coins list.\n",
    "\n",
    "💬 Unpacking:\n",
    "\n",
    "name receives the first element of the tuple (e.g., \"1 real\")\n",
    "value receives the second element (e.g., 1.00)\n",
    "\n",
    "\n",
    "\n",
    "▶️quantity = int(input(f\"Enter how many {name} coins you have: \"))◀️\n",
    "\n",
    "🧠 What it does:\n",
    "\n",
    "input() → displays a message and waits for the user to type something.\n",
    "\n",
    "f\"Enter how many {name}...\" → uses an f-string to dynamically insert the coin’s name.\n",
    "\n",
    "If name = \"1 real\", the message shown will be:\n",
    "\"Enter how many 1 real coins you have:\"\n",
    "\n",
    "int() → converts what the user typed (text) into an integer number.\n",
    "\n",
    "The result is stored in the variable quantity.❗\n",
    "\n",
    "\n",
    "▶️total_value += quantity * value◀️\n",
    "    \n",
    "🧠 What it does:\n",
    "Multiplies the entered quantity by the coin’s value and adds it to the running total.\n",
    "\n",
    "💬 Step by step:\n",
    "If the user has:\n",
    "\n",
    "3 coins of 0.50 → 3 * 0.50 = 1.50\n",
    "5 coins of 0.10 → 5 * 0.10 = 0.50\n",
    "\n",
    "+= means “add and update”:\n",
    "\n",
    "total_value = total_value + (quantity * value)\n",
    "\n",
    "x = 10\n",
    "\n",
    "x += 5   # agora x vale 15\n",
    "x -= 3   # agora x vale 12\n",
    "x *= 2   # agora x vale 24\n",
    "x /= 4   # agora x vale 6.0\n",
    "\n",
    "\n",
    "\n",
    "▶️print(f\"You have a total of R${total_value:.2f}.\")◀️\n",
    "\n",
    "🧠{total_value:.2f} → formats the number with two decimal places (e.g., 3.5 → 3.50)\n"
   ]
  },
  {
   "cell_type": "markdown",
   "id": "6eb36249",
   "metadata": {},
   "source": [
    "                              ✏️ Challenge 4 – Manipulating Strings"
   ]
  },
  {
   "cell_type": "code",
   "execution_count": 8,
   "id": "cef15639",
   "metadata": {},
   "outputs": [
    {
     "name": "stdout",
     "output_type": "stream",
     "text": [
      "Upper mode: JULIANO SILVA DOS SANTOS\n",
      "Lower mode: juliano silva dos santos\n",
      "Number of characters: 21\n"
     ]
    }
   ],
   "source": [
    "name = input(\"Type your complete name\")\n",
    "name_upper = name.upper()\n",
    "name_lower = name.lower()\n",
    "name_number = len(name.replace(\" \",\"\"))\n",
    "\n",
    "print(f\"Upper mode: {name_upper}\")\n",
    "print(f\"Lower mode: {name_lower}\")\n",
    "print(f\"Number of characters: {name_number}\")"
   ]
  }
 ],
 "metadata": {
  "kernelspec": {
   "display_name": "venv",
   "language": "python",
   "name": "python3"
  },
  "language_info": {
   "codemirror_mode": {
    "name": "ipython",
    "version": 3
   },
   "file_extension": ".py",
   "mimetype": "text/x-python",
   "name": "python",
   "nbconvert_exporter": "python",
   "pygments_lexer": "ipython3",
   "version": "3.13.3"
  }
 },
 "nbformat": 4,
 "nbformat_minor": 5
}
